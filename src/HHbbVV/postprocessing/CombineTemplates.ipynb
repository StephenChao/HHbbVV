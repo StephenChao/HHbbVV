{
 "cells": [
  {
   "cell_type": "markdown",
   "metadata": {},
   "source": [
    "# Combining VBF and ggF templates\n",
    "\n",
    "Author(s): Raghav Kansal"
   ]
  },
  {
   "cell_type": "code",
   "execution_count": null,
   "metadata": {},
   "outputs": [],
   "source": [
    "import pickle\n",
    "import json\n",
    "from pathlib import Path\n",
    "from HHbbVV.hh_vars import years"
   ]
  },
  {
   "cell_type": "code",
   "execution_count": null,
   "metadata": {},
   "outputs": [],
   "source": [
    "ggf_templates_path = Path(\"templates/24Apr9ggFMP9965\")\n",
    "vbf_templates_path = Path(\"templates/24Apr8VBFHP999\")\n",
    "templates_path = Path(\"templates/24Apr10NonresCombined\")\n",
    "templates_path.mkdir(exist_ok=True)"
   ]
  },
  {
   "cell_type": "markdown",
   "metadata": {},
   "source": [
    "## Combining templates"
   ]
  },
  {
   "cell_type": "code",
   "execution_count": null,
   "metadata": {},
   "outputs": [],
   "source": [
    "for year in years:\n",
    "    combined_templates = {}\n",
    "\n",
    "    with (ggf_templates_path / f\"{year}_templates.pkl\").open(\"rb\") as f:\n",
    "        ggf_templates = pickle.load(f)\n",
    "\n",
    "    with (vbf_templates_path / f\"{year}_templates.pkl\").open(\"rb\") as f:\n",
    "        vbf_templates = pickle.load(f)\n",
    "\n",
    "    for region, h in ggf_templates.items():\n",
    "        if region.startswith(\"pass\"):\n",
    "            # rename pass regions\n",
    "            combined_templates[region.replace(\"pass\", \"pass_ggf\")] = h\n",
    "        else:\n",
    "            combined_templates[region] = h\n",
    "\n",
    "    for region, h in vbf_templates.items():\n",
    "        if region.startswith(\"pass\"):\n",
    "            # rename pass regions\n",
    "            combined_templates[region.replace(\"pass\", \"pass_vbf\")] = h\n",
    "        else:\n",
    "            # checking that fail regions are identical\n",
    "            assert combined_templates[region] == h\n",
    "\n",
    "    # save combined templates\n",
    "    with (templates_path / f\"{year}_templates.pkl\").open(\"wb\") as f:\n",
    "        pickle.dump(combined_templates, f)"
   ]
  },
  {
   "cell_type": "markdown",
   "metadata": {},
   "source": [
    "## Combining systematics"
   ]
  },
  {
   "cell_type": "code",
   "execution_count": null,
   "metadata": {},
   "outputs": [],
   "source": [
    "combined_systematics = {}\n",
    "\n",
    "with (ggf_templates_path / \"systematics.json\").open(\"r\") as f:\n",
    "    ggf_systematics = json.load(f)\n",
    "\n",
    "with (vbf_templates_path / \"systematics.json\").open(\"r\") as f:\n",
    "    vbf_systematics = json.load(f)"
   ]
  },
  {
   "cell_type": "code",
   "execution_count": null,
   "metadata": {},
   "outputs": [],
   "source": [
    "year = \"2016\"\n",
    "\n",
    "# for"
   ]
  },
  {
   "cell_type": "code",
   "execution_count": null,
   "metadata": {},
   "outputs": [],
   "source": [
    "ggf_systematics"
   ]
  },
  {
   "cell_type": "markdown",
   "metadata": {},
   "source": [
    "Combining cutflows"
   ]
  }
 ],
 "metadata": {
  "kernelspec": {
   "display_name": "python310",
   "language": "python",
   "name": "python3"
  },
  "language_info": {
   "codemirror_mode": {
    "name": "ipython",
    "version": 3
   },
   "file_extension": ".py",
   "mimetype": "text/x-python",
   "name": "python",
   "nbconvert_exporter": "python",
   "pygments_lexer": "ipython3",
   "version": "3.10.11"
  }
 },
 "nbformat": 4,
 "nbformat_minor": 2
}
